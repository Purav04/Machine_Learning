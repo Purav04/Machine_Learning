{
 "cells": [
  {
   "cell_type": "code",
   "execution_count": 1,
   "metadata": {
    "_cell_guid": "b1076dfc-b9ad-4769-8c92-a6c4dae69d19",
    "_uuid": "8f2839f25d086af736a60e9eeb907d3b93b6e0e5",
    "execution": {
     "iopub.execute_input": "2021-02-23T15:53:54.467441Z",
     "iopub.status.busy": "2021-02-23T15:53:54.466367Z",
     "iopub.status.idle": "2021-02-23T15:53:55.493385Z",
     "shell.execute_reply": "2021-02-23T15:53:55.493932Z"
    },
    "papermill": {
     "duration": 1.054294,
     "end_time": "2021-02-23T15:53:55.494130",
     "exception": false,
     "start_time": "2021-02-23T15:53:54.439836",
     "status": "completed"
    },
    "tags": []
   },
   "outputs": [
    {
     "name": "stdout",
     "output_type": "stream",
     "text": [
      "/kaggle/input/titanic/train.csv\n",
      "/kaggle/input/titanic/test.csv\n",
      "/kaggle/input/titanic/gender_submission.csv\n"
     ]
    }
   ],
   "source": [
    "# This Python 3 environment comes with many helpful analytics libraries installed\n",
    "# It is defined by the kaggle/python Docker image: https://github.com/kaggle/docker-python\n",
    "# For example, here's several helpful packages to load\n",
    "\n",
    "import numpy as np # linear algebra\n",
    "import pandas as pd # data processing, CSV file I/O (e.g. pd.read_csv)\n",
    "import seaborn as sns\n",
    "\n",
    "# Input data files are available in the read-only \"../input/\" directory\n",
    "# For example, running this (by clicking run or pressing Shift+Enter) will list all files under the input directory\n",
    "\n",
    "import os\n",
    "for dirname, _, filenames in os.walk('/kaggle/input'):\n",
    "    for filename in filenames:\n",
    "        print(os.path.join(dirname, filename))\n",
    "\n",
    "# You can write up to 20GB to the current directory (/kaggle/working/) that gets preserved as output when you create a version using \"Save & Run All\" \n",
    "# You can also write temporary files to /kaggle/temp/, but they won't be saved outside of the current session"
   ]
  },
  {
   "cell_type": "code",
   "execution_count": 2,
   "metadata": {
    "_cell_guid": "79c7e3d0-c299-4dcb-8224-4455121ee9b0",
    "_uuid": "d629ff2d2480ee46fbb7e2d37f6b5fab8052498a",
    "execution": {
     "iopub.execute_input": "2021-02-23T15:53:55.549609Z",
     "iopub.status.busy": "2021-02-23T15:53:55.548927Z",
     "iopub.status.idle": "2021-02-23T15:53:55.577316Z",
     "shell.execute_reply": "2021-02-23T15:53:55.577934Z"
    },
    "papermill": {
     "duration": 0.059385,
     "end_time": "2021-02-23T15:53:55.578107",
     "exception": false,
     "start_time": "2021-02-23T15:53:55.518722",
     "status": "completed"
    },
    "tags": []
   },
   "outputs": [],
   "source": [
    "train_data = pd.read_csv(\"/kaggle/input/titanic/train.csv\")\n",
    "test_data = pd.read_csv(\"/kaggle/input/titanic/test.csv\")"
   ]
  },
  {
   "cell_type": "code",
   "execution_count": 3,
   "metadata": {
    "execution": {
     "iopub.execute_input": "2021-02-23T15:53:55.626183Z",
     "iopub.status.busy": "2021-02-23T15:53:55.625436Z",
     "iopub.status.idle": "2021-02-23T15:53:55.641319Z",
     "shell.execute_reply": "2021-02-23T15:53:55.640612Z"
    },
    "papermill": {
     "duration": 0.040677,
     "end_time": "2021-02-23T15:53:55.641434",
     "exception": false,
     "start_time": "2021-02-23T15:53:55.600757",
     "status": "completed"
    },
    "tags": []
   },
   "outputs": [
    {
     "data": {
      "text/plain": [
       "PassengerId      0\n",
       "Pclass           0\n",
       "Name             0\n",
       "Sex              0\n",
       "Age             86\n",
       "SibSp            0\n",
       "Parch            0\n",
       "Ticket           0\n",
       "Fare             1\n",
       "Cabin          327\n",
       "Embarked         0\n",
       "dtype: int64"
      ]
     },
     "execution_count": 3,
     "metadata": {},
     "output_type": "execute_result"
    }
   ],
   "source": [
    "test_data.isnull().sum()"
   ]
  },
  {
   "cell_type": "code",
   "execution_count": 4,
   "metadata": {
    "execution": {
     "iopub.execute_input": "2021-02-23T15:53:55.698434Z",
     "iopub.status.busy": "2021-02-23T15:53:55.697698Z",
     "iopub.status.idle": "2021-02-23T15:53:55.701267Z",
     "shell.execute_reply": "2021-02-23T15:53:55.700641Z"
    },
    "papermill": {
     "duration": 0.037054,
     "end_time": "2021-02-23T15:53:55.701377",
     "exception": false,
     "start_time": "2021-02-23T15:53:55.664323",
     "status": "completed"
    },
    "tags": []
   },
   "outputs": [],
   "source": [
    "X1 = train_data.drop(columns = ['Name','PassengerId','Cabin','Survived'],axis=1)\n",
    "y1 = train_data.Survived\n",
    "X_test = test_data.drop(columns =  ['PassengerId','Name','Ticket','Cabin'],axis=1)"
   ]
  },
  {
   "cell_type": "code",
   "execution_count": 5,
   "metadata": {
    "execution": {
     "iopub.execute_input": "2021-02-23T15:53:55.752267Z",
     "iopub.status.busy": "2021-02-23T15:53:55.751581Z",
     "iopub.status.idle": "2021-02-23T15:53:55.877890Z",
     "shell.execute_reply": "2021-02-23T15:53:55.877239Z"
    },
    "papermill": {
     "duration": 0.153929,
     "end_time": "2021-02-23T15:53:55.878010",
     "exception": false,
     "start_time": "2021-02-23T15:53:55.724081",
     "status": "completed"
    },
    "tags": []
   },
   "outputs": [],
   "source": [
    "from sklearn.model_selection import train_test_split\n",
    "\n",
    "X_train,X_valid,y_train,y_valid = train_test_split(X1,y1,train_size=0.8,test_size=0.2,random_state=1)"
   ]
  },
  {
   "cell_type": "code",
   "execution_count": 6,
   "metadata": {
    "execution": {
     "iopub.execute_input": "2021-02-23T15:53:55.934401Z",
     "iopub.status.busy": "2021-02-23T15:53:55.933737Z",
     "iopub.status.idle": "2021-02-23T15:53:55.944327Z",
     "shell.execute_reply": "2021-02-23T15:53:55.943752Z"
    },
    "papermill": {
     "duration": 0.043392,
     "end_time": "2021-02-23T15:53:55.944444",
     "exception": false,
     "start_time": "2021-02-23T15:53:55.901052",
     "status": "completed"
    },
    "tags": []
   },
   "outputs": [
    {
     "data": {
      "text/html": [
       "<div>\n",
       "<style scoped>\n",
       "    .dataframe tbody tr th:only-of-type {\n",
       "        vertical-align: middle;\n",
       "    }\n",
       "\n",
       "    .dataframe tbody tr th {\n",
       "        vertical-align: top;\n",
       "    }\n",
       "\n",
       "    .dataframe thead th {\n",
       "        text-align: right;\n",
       "    }\n",
       "</style>\n",
       "<table border=\"1\" class=\"dataframe\">\n",
       "  <thead>\n",
       "    <tr style=\"text-align: right;\">\n",
       "      <th></th>\n",
       "      <th>Pclass</th>\n",
       "      <th>Sex</th>\n",
       "      <th>Age</th>\n",
       "      <th>SibSp</th>\n",
       "      <th>Parch</th>\n",
       "      <th>Ticket</th>\n",
       "      <th>Fare</th>\n",
       "      <th>Embarked</th>\n",
       "    </tr>\n",
       "  </thead>\n",
       "  <tbody>\n",
       "    <tr>\n",
       "      <th>301</th>\n",
       "      <td>3</td>\n",
       "      <td>male</td>\n",
       "      <td>NaN</td>\n",
       "      <td>2</td>\n",
       "      <td>0</td>\n",
       "      <td>367226</td>\n",
       "      <td>23.2500</td>\n",
       "      <td>Q</td>\n",
       "    </tr>\n",
       "    <tr>\n",
       "      <th>309</th>\n",
       "      <td>1</td>\n",
       "      <td>female</td>\n",
       "      <td>30.0</td>\n",
       "      <td>0</td>\n",
       "      <td>0</td>\n",
       "      <td>PC 17485</td>\n",
       "      <td>56.9292</td>\n",
       "      <td>C</td>\n",
       "    </tr>\n",
       "    <tr>\n",
       "      <th>516</th>\n",
       "      <td>2</td>\n",
       "      <td>female</td>\n",
       "      <td>34.0</td>\n",
       "      <td>0</td>\n",
       "      <td>0</td>\n",
       "      <td>C.A. 34260</td>\n",
       "      <td>10.5000</td>\n",
       "      <td>S</td>\n",
       "    </tr>\n",
       "    <tr>\n",
       "      <th>120</th>\n",
       "      <td>2</td>\n",
       "      <td>male</td>\n",
       "      <td>21.0</td>\n",
       "      <td>2</td>\n",
       "      <td>0</td>\n",
       "      <td>S.O.C. 14879</td>\n",
       "      <td>73.5000</td>\n",
       "      <td>S</td>\n",
       "    </tr>\n",
       "    <tr>\n",
       "      <th>570</th>\n",
       "      <td>2</td>\n",
       "      <td>male</td>\n",
       "      <td>62.0</td>\n",
       "      <td>0</td>\n",
       "      <td>0</td>\n",
       "      <td>S.W./PP 752</td>\n",
       "      <td>10.5000</td>\n",
       "      <td>S</td>\n",
       "    </tr>\n",
       "  </tbody>\n",
       "</table>\n",
       "</div>"
      ],
      "text/plain": [
       "     Pclass     Sex   Age  SibSp  Parch        Ticket     Fare Embarked\n",
       "301       3    male   NaN      2      0        367226  23.2500        Q\n",
       "309       1  female  30.0      0      0      PC 17485  56.9292        C\n",
       "516       2  female  34.0      0      0    C.A. 34260  10.5000        S\n",
       "120       2    male  21.0      2      0  S.O.C. 14879  73.5000        S\n",
       "570       2    male  62.0      0      0   S.W./PP 752  10.5000        S"
      ]
     },
     "execution_count": 6,
     "metadata": {},
     "output_type": "execute_result"
    }
   ],
   "source": [
    "X_train.head()"
   ]
  },
  {
   "cell_type": "markdown",
   "metadata": {
    "papermill": {
     "duration": 0.023032,
     "end_time": "2021-02-23T15:53:55.991049",
     "exception": false,
     "start_time": "2021-02-23T15:53:55.968017",
     "status": "completed"
    },
    "tags": []
   },
   "source": [
    "# deal with missing value"
   ]
  },
  {
   "cell_type": "code",
   "execution_count": 7,
   "metadata": {
    "execution": {
     "iopub.execute_input": "2021-02-23T15:53:56.047823Z",
     "iopub.status.busy": "2021-02-23T15:53:56.047067Z",
     "iopub.status.idle": "2021-02-23T15:53:56.051590Z",
     "shell.execute_reply": "2021-02-23T15:53:56.050967Z"
    },
    "papermill": {
     "duration": 0.037106,
     "end_time": "2021-02-23T15:53:56.051797",
     "exception": false,
     "start_time": "2021-02-23T15:53:56.014691",
     "status": "completed"
    },
    "tags": []
   },
   "outputs": [
    {
     "data": {
      "text/plain": [
       "Pclass        0\n",
       "Sex           0\n",
       "Age         144\n",
       "SibSp         0\n",
       "Parch         0\n",
       "Ticket        0\n",
       "Fare          0\n",
       "Embarked      2\n",
       "dtype: int64"
      ]
     },
     "execution_count": 7,
     "metadata": {},
     "output_type": "execute_result"
    }
   ],
   "source": [
    "X_train.isnull().sum()"
   ]
  },
  {
   "cell_type": "code",
   "execution_count": 8,
   "metadata": {
    "execution": {
     "iopub.execute_input": "2021-02-23T15:53:56.108135Z",
     "iopub.status.busy": "2021-02-23T15:53:56.107415Z",
     "iopub.status.idle": "2021-02-23T15:53:56.111846Z",
     "shell.execute_reply": "2021-02-23T15:53:56.111307Z"
    },
    "papermill": {
     "duration": 0.036439,
     "end_time": "2021-02-23T15:53:56.111982",
     "exception": false,
     "start_time": "2021-02-23T15:53:56.075543",
     "status": "completed"
    },
    "tags": []
   },
   "outputs": [
    {
     "data": {
      "text/plain": [
       "Pclass       0\n",
       "Sex          0\n",
       "Age         86\n",
       "SibSp        0\n",
       "Parch        0\n",
       "Fare         1\n",
       "Embarked     0\n",
       "dtype: int64"
      ]
     },
     "execution_count": 8,
     "metadata": {},
     "output_type": "execute_result"
    }
   ],
   "source": [
    "X_test.isnull().sum()"
   ]
  },
  {
   "cell_type": "code",
   "execution_count": 9,
   "metadata": {
    "execution": {
     "iopub.execute_input": "2021-02-23T15:53:56.166882Z",
     "iopub.status.busy": "2021-02-23T15:53:56.166152Z",
     "iopub.status.idle": "2021-02-23T15:53:56.326863Z",
     "shell.execute_reply": "2021-02-23T15:53:56.326230Z"
    },
    "papermill": {
     "duration": 0.190318,
     "end_time": "2021-02-23T15:53:56.327014",
     "exception": false,
     "start_time": "2021-02-23T15:53:56.136696",
     "status": "completed"
    },
    "tags": []
   },
   "outputs": [],
   "source": [
    "from sklearn.impute import SimpleImputer\n",
    "\n",
    "num_imputer = SimpleImputer(strategy=\"mean\")\n",
    "cat_imputer = SimpleImputer(strategy=\"most_frequent\")"
   ]
  },
  {
   "cell_type": "code",
   "execution_count": 10,
   "metadata": {
    "execution": {
     "iopub.execute_input": "2021-02-23T15:53:56.403565Z",
     "iopub.status.busy": "2021-02-23T15:53:56.386298Z",
     "iopub.status.idle": "2021-02-23T15:53:56.421314Z",
     "shell.execute_reply": "2021-02-23T15:53:56.420359Z"
    },
    "papermill": {
     "duration": 0.069849,
     "end_time": "2021-02-23T15:53:56.421468",
     "exception": false,
     "start_time": "2021-02-23T15:53:56.351619",
     "status": "completed"
    },
    "tags": []
   },
   "outputs": [
    {
     "name": "stderr",
     "output_type": "stream",
     "text": [
      "/opt/conda/lib/python3.7/site-packages/ipykernel_launcher.py:2: SettingWithCopyWarning: \n",
      "A value is trying to be set on a copy of a slice from a DataFrame.\n",
      "Try using .loc[row_indexer,col_indexer] = value instead\n",
      "\n",
      "See the caveats in the documentation: https://pandas.pydata.org/pandas-docs/stable/user_guide/indexing.html#returning-a-view-versus-a-copy\n",
      "  \n",
      "/opt/conda/lib/python3.7/site-packages/ipykernel_launcher.py:3: SettingWithCopyWarning: \n",
      "A value is trying to be set on a copy of a slice from a DataFrame.\n",
      "Try using .loc[row_indexer,col_indexer] = value instead\n",
      "\n",
      "See the caveats in the documentation: https://pandas.pydata.org/pandas-docs/stable/user_guide/indexing.html#returning-a-view-versus-a-copy\n",
      "  This is separate from the ipykernel package so we can avoid doing imports until\n",
      "/opt/conda/lib/python3.7/site-packages/ipykernel_launcher.py:2: SettingWithCopyWarning: \n",
      "A value is trying to be set on a copy of a slice from a DataFrame.\n",
      "Try using .loc[row_indexer,col_indexer] = value instead\n",
      "\n",
      "See the caveats in the documentation: https://pandas.pydata.org/pandas-docs/stable/user_guide/indexing.html#returning-a-view-versus-a-copy\n",
      "  \n",
      "/opt/conda/lib/python3.7/site-packages/ipykernel_launcher.py:3: SettingWithCopyWarning: \n",
      "A value is trying to be set on a copy of a slice from a DataFrame.\n",
      "Try using .loc[row_indexer,col_indexer] = value instead\n",
      "\n",
      "See the caveats in the documentation: https://pandas.pydata.org/pandas-docs/stable/user_guide/indexing.html#returning-a-view-versus-a-copy\n",
      "  This is separate from the ipykernel package so we can avoid doing imports until\n",
      "/opt/conda/lib/python3.7/site-packages/ipykernel_launcher.py:5: SettingWithCopyWarning: \n",
      "A value is trying to be set on a copy of a slice from a DataFrame.\n",
      "Try using .loc[row_indexer,col_indexer] = value instead\n",
      "\n",
      "See the caveats in the documentation: https://pandas.pydata.org/pandas-docs/stable/user_guide/indexing.html#returning-a-view-versus-a-copy\n",
      "  \"\"\"\n"
     ]
    }
   ],
   "source": [
    "for col in ['Age','Fare']:\n",
    "    X_train[col] = num_imputer.fit_transform(X_train[[col]])\n",
    "    X_valid[col] = num_imputer.fit_transform(X_valid[[col]])\n",
    "    X_test[col] = num_imputer.fit_transform(X_test[[col]])\n",
    "X_train['Embarked'] = cat_imputer.fit_transform(X_train[['Embarked']].values)\n"
   ]
  },
  {
   "cell_type": "markdown",
   "metadata": {
    "papermill": {
     "duration": 0.025256,
     "end_time": "2021-02-23T15:53:56.472951",
     "exception": false,
     "start_time": "2021-02-23T15:53:56.447695",
     "status": "completed"
    },
    "tags": []
   },
   "source": [
    "# deal with categorical data"
   ]
  },
  {
   "cell_type": "code",
   "execution_count": 11,
   "metadata": {
    "execution": {
     "iopub.execute_input": "2021-02-23T15:53:56.539996Z",
     "iopub.status.busy": "2021-02-23T15:53:56.530164Z",
     "iopub.status.idle": "2021-02-23T15:53:56.544804Z",
     "shell.execute_reply": "2021-02-23T15:53:56.545446Z"
    },
    "papermill": {
     "duration": 0.047479,
     "end_time": "2021-02-23T15:53:56.545590",
     "exception": false,
     "start_time": "2021-02-23T15:53:56.498111",
     "status": "completed"
    },
    "tags": []
   },
   "outputs": [
    {
     "data": {
      "text/html": [
       "<div>\n",
       "<style scoped>\n",
       "    .dataframe tbody tr th:only-of-type {\n",
       "        vertical-align: middle;\n",
       "    }\n",
       "\n",
       "    .dataframe tbody tr th {\n",
       "        vertical-align: top;\n",
       "    }\n",
       "\n",
       "    .dataframe thead th {\n",
       "        text-align: right;\n",
       "    }\n",
       "</style>\n",
       "<table border=\"1\" class=\"dataframe\">\n",
       "  <thead>\n",
       "    <tr style=\"text-align: right;\">\n",
       "      <th></th>\n",
       "      <th>Pclass</th>\n",
       "      <th>Sex</th>\n",
       "      <th>Age</th>\n",
       "      <th>SibSp</th>\n",
       "      <th>Parch</th>\n",
       "      <th>Fare</th>\n",
       "      <th>Embarked</th>\n",
       "    </tr>\n",
       "  </thead>\n",
       "  <tbody>\n",
       "    <tr>\n",
       "      <th>301</th>\n",
       "      <td>3</td>\n",
       "      <td>male</td>\n",
       "      <td>30.166232</td>\n",
       "      <td>2</td>\n",
       "      <td>0</td>\n",
       "      <td>23.2500</td>\n",
       "      <td>Q</td>\n",
       "    </tr>\n",
       "    <tr>\n",
       "      <th>309</th>\n",
       "      <td>1</td>\n",
       "      <td>female</td>\n",
       "      <td>30.000000</td>\n",
       "      <td>0</td>\n",
       "      <td>0</td>\n",
       "      <td>56.9292</td>\n",
       "      <td>C</td>\n",
       "    </tr>\n",
       "    <tr>\n",
       "      <th>516</th>\n",
       "      <td>2</td>\n",
       "      <td>female</td>\n",
       "      <td>34.000000</td>\n",
       "      <td>0</td>\n",
       "      <td>0</td>\n",
       "      <td>10.5000</td>\n",
       "      <td>S</td>\n",
       "    </tr>\n",
       "    <tr>\n",
       "      <th>120</th>\n",
       "      <td>2</td>\n",
       "      <td>male</td>\n",
       "      <td>21.000000</td>\n",
       "      <td>2</td>\n",
       "      <td>0</td>\n",
       "      <td>73.5000</td>\n",
       "      <td>S</td>\n",
       "    </tr>\n",
       "    <tr>\n",
       "      <th>570</th>\n",
       "      <td>2</td>\n",
       "      <td>male</td>\n",
       "      <td>62.000000</td>\n",
       "      <td>0</td>\n",
       "      <td>0</td>\n",
       "      <td>10.5000</td>\n",
       "      <td>S</td>\n",
       "    </tr>\n",
       "  </tbody>\n",
       "</table>\n",
       "</div>"
      ],
      "text/plain": [
       "     Pclass     Sex        Age  SibSp  Parch     Fare Embarked\n",
       "301       3    male  30.166232      2      0  23.2500        Q\n",
       "309       1  female  30.000000      0      0  56.9292        C\n",
       "516       2  female  34.000000      0      0  10.5000        S\n",
       "120       2    male  21.000000      2      0  73.5000        S\n",
       "570       2    male  62.000000      0      0  10.5000        S"
      ]
     },
     "execution_count": 11,
     "metadata": {},
     "output_type": "execute_result"
    }
   ],
   "source": [
    "X_train = X_train.drop(columns = ['Ticket'],axis=1)\n",
    "X_valid = X_valid.drop(columns = ['Ticket'],axis=1)\n",
    "X_train.head()"
   ]
  },
  {
   "cell_type": "code",
   "execution_count": 12,
   "metadata": {
    "execution": {
     "iopub.execute_input": "2021-02-23T15:53:56.604485Z",
     "iopub.status.busy": "2021-02-23T15:53:56.603814Z",
     "iopub.status.idle": "2021-02-23T15:53:56.629476Z",
     "shell.execute_reply": "2021-02-23T15:53:56.630161Z"
    },
    "papermill": {
     "duration": 0.058817,
     "end_time": "2021-02-23T15:53:56.630327",
     "exception": false,
     "start_time": "2021-02-23T15:53:56.571510",
     "status": "completed"
    },
    "tags": []
   },
   "outputs": [],
   "source": [
    "def family(df):\n",
    "    df['Family'] = df['SibSp'] + df['Parch']\n",
    "    df = df.drop(columns=['SibSp','Parch'],axis=1)\n",
    "    return df\n",
    "X_train = family(X_train)\n",
    "X_valid = family(X_valid)\n",
    "X_test = family(X_test)"
   ]
  },
  {
   "cell_type": "code",
   "execution_count": 13,
   "metadata": {
    "execution": {
     "iopub.execute_input": "2021-02-23T15:53:56.686468Z",
     "iopub.status.busy": "2021-02-23T15:53:56.685693Z",
     "iopub.status.idle": "2021-02-23T15:53:56.689825Z",
     "shell.execute_reply": "2021-02-23T15:53:56.690314Z"
    },
    "papermill": {
     "duration": 0.034076,
     "end_time": "2021-02-23T15:53:56.690446",
     "exception": false,
     "start_time": "2021-02-23T15:53:56.656370",
     "status": "completed"
    },
    "tags": []
   },
   "outputs": [],
   "source": [
    "from sklearn.preprocessing import OneHotEncoder\n",
    "\n",
    "one_hot_encoder = OneHotEncoder(handle_unknown=\"ignore\",sparse=False)"
   ]
  },
  {
   "cell_type": "code",
   "execution_count": 14,
   "metadata": {
    "execution": {
     "iopub.execute_input": "2021-02-23T15:53:56.749417Z",
     "iopub.status.busy": "2021-02-23T15:53:56.748748Z",
     "iopub.status.idle": "2021-02-23T15:53:56.752029Z",
     "shell.execute_reply": "2021-02-23T15:53:56.751438Z"
    },
    "papermill": {
     "duration": 0.035824,
     "end_time": "2021-02-23T15:53:56.752164",
     "exception": false,
     "start_time": "2021-02-23T15:53:56.716340",
     "status": "completed"
    },
    "tags": []
   },
   "outputs": [],
   "source": [
    "\n",
    "def one_hot(X):\n",
    "    ohe_cols = ['Pclass','Sex','Embarked']\n",
    "    ohe_cols_train = pd.DataFrame(one_hot_encoder.fit_transform(X[ohe_cols]))\n",
    "    ohe_cols_train.index = X.index\n",
    "    XX = X.drop(ohe_cols,axis=1)\n",
    "    return pd.concat([XX,ohe_cols_train],axis=1)"
   ]
  },
  {
   "cell_type": "code",
   "execution_count": 15,
   "metadata": {
    "execution": {
     "iopub.execute_input": "2021-02-23T15:53:56.812874Z",
     "iopub.status.busy": "2021-02-23T15:53:56.812126Z",
     "iopub.status.idle": "2021-02-23T15:53:56.828534Z",
     "shell.execute_reply": "2021-02-23T15:53:56.829068Z"
    },
    "papermill": {
     "duration": 0.050359,
     "end_time": "2021-02-23T15:53:56.829242",
     "exception": false,
     "start_time": "2021-02-23T15:53:56.778883",
     "status": "completed"
    },
    "tags": []
   },
   "outputs": [],
   "source": [
    "X_ohe_train = one_hot(X_train)\n",
    "X_ohe_valid = one_hot(X_valid)\n",
    "X_ohe_test = one_hot(X_test)"
   ]
  },
  {
   "cell_type": "code",
   "execution_count": 16,
   "metadata": {
    "execution": {
     "iopub.execute_input": "2021-02-23T15:53:56.893954Z",
     "iopub.status.busy": "2021-02-23T15:53:56.893246Z",
     "iopub.status.idle": "2021-02-23T15:53:56.895212Z",
     "shell.execute_reply": "2021-02-23T15:53:56.895722Z"
    },
    "papermill": {
     "duration": 0.040269,
     "end_time": "2021-02-23T15:53:56.895866",
     "exception": false,
     "start_time": "2021-02-23T15:53:56.855597",
     "status": "completed"
    },
    "tags": []
   },
   "outputs": [],
   "source": [
    "X_ohe_train.rename(columns={0:\"Pclass_1\",1:\"Pclass_2\",2:\"Pclass_3\",3:\"Sex_female\",4:\"Sex_male\",5:\"Embarked_C\",6:\"Embarked_Q\",7:\"Embarked_S\"},inplace=True)\n",
    "X_ohe_valid.rename(columns={0:\"Pclass_1\",1:\"Pclass_2\",2:\"Pclass_3\",3:\"Sex_female\",4:\"Sex_male\",5:\"Embarked_C\",6:\"Embarked_Q\",7:\"Embarked_S\"},inplace=True)\n",
    "X_ohe_test.rename(columns={0:\"Pclass_1\",1:\"Pclass_2\",2:\"Pclass_3\",3:\"Sex_female\",4:\"Sex_male\",5:\"Embarked_C\",6:\"Embarked_Q\",7:\"Embarked_S\"},inplace=True)"
   ]
  },
  {
   "cell_type": "code",
   "execution_count": 17,
   "metadata": {
    "execution": {
     "iopub.execute_input": "2021-02-23T15:53:56.952073Z",
     "iopub.status.busy": "2021-02-23T15:53:56.951360Z",
     "iopub.status.idle": "2021-02-23T15:53:57.691347Z",
     "shell.execute_reply": "2021-02-23T15:53:57.692179Z"
    },
    "papermill": {
     "duration": 0.770261,
     "end_time": "2021-02-23T15:53:57.692350",
     "exception": false,
     "start_time": "2021-02-23T15:53:56.922089",
     "status": "completed"
    },
    "tags": []
   },
   "outputs": [
    {
     "data": {
      "text/plain": [
       "<matplotlib.axes._subplots.AxesSubplot at 0x7f5c6573bad0>"
      ]
     },
     "execution_count": 17,
     "metadata": {},
     "output_type": "execute_result"
    },
    {
     "data": {
      "image/png": "[encoded data removed]",
      "text/plain": [
       "<Figure size 432x288 with 2 Axes>"
      ]
     },
     "metadata": {
      "needs_background": "light"
     },
     "output_type": "display_data"
    }
   ],
   "source": [
    "sns.heatmap(X_ohe_test.corr(),annot=True)"
   ]
  },
  {
   "cell_type": "code",
   "execution_count": 18,
   "metadata": {
    "execution": {
     "iopub.execute_input": "2021-02-23T15:53:57.755159Z",
     "iopub.status.busy": "2021-02-23T15:53:57.754128Z",
     "iopub.status.idle": "2021-02-23T15:53:57.763178Z",
     "shell.execute_reply": "2021-02-23T15:53:57.763711Z"
    },
    "papermill": {
     "duration": 0.041945,
     "end_time": "2021-02-23T15:53:57.763854",
     "exception": false,
     "start_time": "2021-02-23T15:53:57.721909",
     "status": "completed"
    },
    "tags": []
   },
   "outputs": [],
   "source": [
    "# normalization \n",
    "from sklearn.preprocessing import MinMaxScaler\n",
    "normalize = MinMaxScaler()\n",
    "\n",
    "def normalize_feature(df):\n",
    "    normalize_cols = ['Age','Fare']\n",
    "    df_new = pd.DataFrame()\n",
    "    for cols in normalize_cols:\n",
    "        X_scaled = normalize.fit_transform(np.array(df[cols]).reshape(-1,1))\n",
    "        df_scaled = pd.DataFrame(X_scaled,columns = [cols+'_new'])\n",
    "        df_new = pd.concat([df_scaled,df_new],axis=1)\n",
    "    df = pd.concat([df,df_new],axis=1)\n",
    "    df.drop(columns=['Age','Fare'],axis=1,inplace=True)\n",
    "    return df"
   ]
  },
  {
   "cell_type": "code",
   "execution_count": 19,
   "metadata": {
    "execution": {
     "iopub.execute_input": "2021-02-23T15:53:57.826866Z",
     "iopub.status.busy": "2021-02-23T15:53:57.825899Z",
     "iopub.status.idle": "2021-02-23T15:53:57.922566Z",
     "shell.execute_reply": "2021-02-23T15:53:57.923111Z"
    },
    "papermill": {
     "duration": 0.129181,
     "end_time": "2021-02-23T15:53:57.923267",
     "exception": false,
     "start_time": "2021-02-23T15:53:57.794086",
     "status": "completed"
    },
    "tags": []
   },
   "outputs": [],
   "source": [
    "X_new_train = normalize_feature(X_ohe_train)\n",
    "X_new_valid = normalize_feature(X_ohe_valid)\n",
    "X_new_test  = normalize_feature(X_ohe_test)"
   ]
  },
  {
   "cell_type": "code",
   "execution_count": 20,
   "metadata": {
    "execution": {
     "iopub.execute_input": "2021-02-23T15:53:57.985892Z",
     "iopub.status.busy": "2021-02-23T15:53:57.984894Z",
     "iopub.status.idle": "2021-02-23T15:53:58.066214Z",
     "shell.execute_reply": "2021-02-23T15:53:58.065528Z"
    },
    "papermill": {
     "duration": 0.113778,
     "end_time": "2021-02-23T15:53:58.066326",
     "exception": false,
     "start_time": "2021-02-23T15:53:57.952548",
     "status": "completed"
    },
    "tags": []
   },
   "outputs": [
    {
     "ename": "NameError",
     "evalue": "name 'plt' is not defined",
     "output_type": "error",
     "traceback": [
      "\u001b[0;31m---------------------------------------------------------------------------\u001b[0m",
      "\u001b[0;31mNameError\u001b[0m                                 Traceback (most recent call last)",
      "\u001b[0;32m<ipython-input-20-3efa08a083c3>\u001b[0m in \u001b[0;36m<module>\u001b[0;34m\u001b[0m\n\u001b[0;32m----> 1\u001b[0;31m \u001b[0mfig\u001b[0m\u001b[0;34m,\u001b[0m\u001b[0max\u001b[0m \u001b[0;34m=\u001b[0m \u001b[0mplt\u001b[0m\u001b[0;34m.\u001b[0m\u001b[0msubplots\u001b[0m\u001b[0;34m(\u001b[0m\u001b[0mfigsize\u001b[0m\u001b[0;34m=\u001b[0m\u001b[0;34m(\u001b[0m\u001b[0;36m10\u001b[0m\u001b[0;34m,\u001b[0m\u001b[0;36m5\u001b[0m\u001b[0;34m)\u001b[0m\u001b[0;34m)\u001b[0m\u001b[0;34m\u001b[0m\u001b[0;34m\u001b[0m\u001b[0m\n\u001b[0m\u001b[1;32m      2\u001b[0m \u001b[0max\u001b[0m \u001b[0;34m=\u001b[0m \u001b[0msns\u001b[0m\u001b[0;34m.\u001b[0m\u001b[0mheatmap\u001b[0m\u001b[0;34m(\u001b[0m\u001b[0mX_new_train\u001b[0m\u001b[0;34m.\u001b[0m\u001b[0mcorr\u001b[0m\u001b[0;34m(\u001b[0m\u001b[0;34m)\u001b[0m\u001b[0;34m,\u001b[0m\u001b[0mannot\u001b[0m\u001b[0;34m=\u001b[0m\u001b[0;32mTrue\u001b[0m\u001b[0;34m)\u001b[0m\u001b[0;34m\u001b[0m\u001b[0;34m\u001b[0m\u001b[0m\n\u001b[1;32m      3\u001b[0m \u001b[0mplt\u001b[0m\u001b[0;34m.\u001b[0m\u001b[0mtitle\u001b[0m\u001b[0;34m(\u001b[0m\u001b[0;34m\"correlation chart\"\u001b[0m\u001b[0;34m)\u001b[0m\u001b[0;34m\u001b[0m\u001b[0;34m\u001b[0m\u001b[0m\n\u001b[1;32m      4\u001b[0m \u001b[0mplt\u001b[0m\u001b[0;34m.\u001b[0m\u001b[0mshow\u001b[0m\u001b[0;34m(\u001b[0m\u001b[0;34m)\u001b[0m\u001b[0;34m\u001b[0m\u001b[0;34m\u001b[0m\u001b[0m\n",
      "\u001b[0;31mNameError\u001b[0m: name 'plt' is not defined"
     ]
    }
   ],
   "source": [
    "fig,ax = plt.subplots(figsize=(10,5))\n",
    "ax = sns.heatmap(X_new_train.corr(),annot=True)\n",
    "plt.title(\"correlation chart\")\n",
    "plt.show()"
   ]
  },
  {
   "cell_type": "code",
   "execution_count": 21,
   "metadata": {
    "execution": {
     "iopub.execute_input": "2021-02-23T15:53:58.132440Z",
     "iopub.status.busy": "2021-02-23T15:53:58.131808Z",
     "iopub.status.idle": "2021-02-23T15:53:58.187165Z",
     "shell.execute_reply": "2021-02-23T15:53:58.186466Z"
    },
    "papermill": {
     "duration": 0.090211,
     "end_time": "2021-02-23T15:53:58.187276",
     "exception": false,
     "start_time": "2021-02-23T15:53:58.097065",
     "status": "completed"
    },
    "tags": []
   },
   "outputs": [],
   "source": [
    "# random forest model\n",
    "\n",
    "from sklearn.ensemble import RandomForestClassifier\n",
    "from sklearn.metrics import mean_absolute_error\n",
    "from sklearn.metrics import confusion_matrix,accuracy_score"
   ]
  },
  {
   "cell_type": "code",
   "execution_count": 22,
   "metadata": {
    "execution": {
     "iopub.execute_input": "2021-02-23T15:53:58.255892Z",
     "iopub.status.busy": "2021-02-23T15:53:58.255185Z",
     "iopub.status.idle": "2021-02-23T15:53:58.508171Z",
     "shell.execute_reply": "2021-02-23T15:53:58.508957Z"
    },
    "papermill": {
     "duration": 0.29172,
     "end_time": "2021-02-23T15:53:58.509151",
     "exception": false,
     "start_time": "2021-02-23T15:53:58.217431",
     "status": "completed"
    },
    "tags": []
   },
   "outputs": [
    {
     "name": "stdout",
     "output_type": "stream",
     "text": [
      "Confusion_matrix:\n",
      " [[94 28]\n",
      " [12 45]]\n",
      "Accuracy: 0.776536312849162\n"
     ]
    }
   ],
   "source": [
    "model = RandomForestClassifier()\n",
    "model.fit(X_ohe_train,y_train)\n",
    "pred = model.predict(X_ohe_valid)\n",
    "print(\"Confusion_matrix:\\n\",confusion_matrix(pred,y_valid))\n",
    "print(\"Accuracy:\",accuracy_score(pred,y_valid))"
   ]
  },
  {
   "cell_type": "code",
   "execution_count": 23,
   "metadata": {
    "execution": {
     "iopub.execute_input": "2021-02-23T15:53:58.581131Z",
     "iopub.status.busy": "2021-02-23T15:53:58.580400Z",
     "iopub.status.idle": "2021-02-23T16:05:35.707388Z",
     "shell.execute_reply": "2021-02-23T16:05:35.708269Z"
    },
    "papermill": {
     "duration": 697.167516,
     "end_time": "2021-02-23T16:05:35.708473",
     "exception": false,
     "start_time": "2021-02-23T15:53:58.540957",
     "status": "completed"
    },
    "tags": []
   },
   "outputs": [
    {
     "name": "stdout",
     "output_type": "stream",
     "text": [
      "{'max_depth': 5, 'min_samples_split': 4, 'n_estimators': 400}\n",
      "0.845562887816409\n"
     ]
    }
   ],
   "source": [
    "from sklearn.model_selection import GridSearchCV\n",
    "params= {'n_estimators':[50,100,150,200,300,400,500,700,800,1000],\n",
    "         'max_depth':[2,3,4,5],\n",
    "         'min_samples_split':[2,3,4,5]}\n",
    "grid = GridSearchCV(model,param_grid=params,cv=5)\n",
    "result = grid.fit(X_ohe_train,y_train)\n",
    "print(result.best_params_)\n",
    "print(result.best_score_)"
   ]
  },
  {
   "cell_type": "code",
   "execution_count": 24,
   "metadata": {
    "execution": {
     "iopub.execute_input": "2021-02-23T16:05:35.793236Z",
     "iopub.status.busy": "2021-02-23T16:05:35.782435Z",
     "iopub.status.idle": "2021-02-23T16:05:37.558459Z",
     "shell.execute_reply": "2021-02-23T16:05:37.559041Z"
    },
    "papermill": {
     "duration": 1.817357,
     "end_time": "2021-02-23T16:05:37.559205",
     "exception": false,
     "start_time": "2021-02-23T16:05:35.741848",
     "status": "completed"
    },
    "tags": []
   },
   "outputs": [
    {
     "name": "stdout",
     "output_type": "stream",
     "text": [
      "[[99  7]\n",
      " [33 40]]\n"
     ]
    }
   ],
   "source": [
    "rf_model = RandomForestClassifier(max_depth=5,min_samples_split=4,n_estimators=800)\n",
    "rf_model.fit(X_ohe_train,y_train)\n",
    "rf_predict = rf_model.predict(X_ohe_valid)\n",
    "print(confusion_matrix(y_valid,rf_predict))"
   ]
  },
  {
   "cell_type": "code",
   "execution_count": 25,
   "metadata": {
    "execution": {
     "iopub.execute_input": "2021-02-23T16:05:37.633345Z",
     "iopub.status.busy": "2021-02-23T16:05:37.627742Z",
     "iopub.status.idle": "2021-02-23T16:05:37.645546Z",
     "shell.execute_reply": "2021-02-23T16:05:37.646203Z"
    },
    "papermill": {
     "duration": 0.055703,
     "end_time": "2021-02-23T16:05:37.646351",
     "exception": false,
     "start_time": "2021-02-23T16:05:37.590648",
     "status": "completed"
    },
    "tags": []
   },
   "outputs": [
    {
     "ename": "NameError",
     "evalue": "name 'predictions' is not defined",
     "output_type": "error",
     "traceback": [
      "\u001b[0;31m---------------------------------------------------------------------------\u001b[0m",
      "\u001b[0;31mNameError\u001b[0m                                 Traceback (most recent call last)",
      "\u001b[0;32m<ipython-input-25-402bf3ded788>\u001b[0m in \u001b[0;36m<module>\u001b[0;34m\u001b[0m\n\u001b[0;32m----> 1\u001b[0;31m \u001b[0moutput\u001b[0m \u001b[0;34m=\u001b[0m \u001b[0mpd\u001b[0m\u001b[0;34m.\u001b[0m\u001b[0mDataFrame\u001b[0m\u001b[0;34m(\u001b[0m\u001b[0;34m{\u001b[0m\u001b[0;34m'PassengerId'\u001b[0m\u001b[0;34m:\u001b[0m \u001b[0mtest_data\u001b[0m\u001b[0;34m.\u001b[0m\u001b[0mPassengerId\u001b[0m\u001b[0;34m,\u001b[0m \u001b[0;34m'Survived'\u001b[0m\u001b[0;34m:\u001b[0m \u001b[0mpredictions\u001b[0m\u001b[0;34m}\u001b[0m\u001b[0;34m)\u001b[0m\u001b[0;34m\u001b[0m\u001b[0;34m\u001b[0m\u001b[0m\n\u001b[0m\u001b[1;32m      2\u001b[0m \u001b[0moutput\u001b[0m\u001b[0;34m.\u001b[0m\u001b[0mto_csv\u001b[0m\u001b[0;34m(\u001b[0m\u001b[0;34m'my_submission.csv'\u001b[0m\u001b[0;34m,\u001b[0m \u001b[0mindex\u001b[0m\u001b[0;34m=\u001b[0m\u001b[0;32mFalse\u001b[0m\u001b[0;34m)\u001b[0m\u001b[0;34m\u001b[0m\u001b[0;34m\u001b[0m\u001b[0m\n",
      "\u001b[0;31mNameError\u001b[0m: name 'predictions' is not defined"
     ]
    }
   ],
   "source": [
    "output = pd.DataFrame({'PassengerId': test_data.PassengerId, 'Survived': predictions})\n",
    "output.to_csv('my_submission.csv', index=False)"
   ]
  },
  {
   "cell_type": "code",
   "execution_count": 26,
   "metadata": {
    "execution": {
     "iopub.execute_input": "2021-02-23T16:05:37.720788Z",
     "iopub.status.busy": "2021-02-23T16:05:37.719996Z",
     "iopub.status.idle": "2021-02-23T16:05:55.857424Z",
     "shell.execute_reply": "2021-02-23T16:05:55.856758Z"
    },
    "papermill": {
     "duration": 18.175383,
     "end_time": "2021-02-23T16:05:55.857565",
     "exception": false,
     "start_time": "2021-02-23T16:05:37.682182",
     "status": "completed"
    },
    "tags": []
   },
   "outputs": [
    {
     "name": "stdout",
     "output_type": "stream",
     "text": [
      "{'C': 0.1, 'penalty': 'l2', 'solver': 'newton-cg'}\n",
      "0.8075834637454355\n"
     ]
    }
   ],
   "source": [
    "from sklearn.linear_model import LogisticRegression\n",
    "from sklearn.model_selection import GridSearchCV,RepeatedStratifiedKFold\n",
    "\n",
    "model = LogisticRegression()\n",
    "solvers = ['newton-cg','lbfgs','liblinear','sag','saga']\n",
    "panelty = ['l2','l1','none','elasticnet']\n",
    "c_values = [100, 10, 1.0, 0.1, 0.01]\n",
    "# parameters = dict(solver=solvers,panalty=panalty,C=c_values)\n",
    "# model.get_params().keys()\n",
    "grid = dict(solver=solvers,penalty=panelty,C=c_values)\n",
    "cv = RepeatedStratifiedKFold(n_splits=10, n_repeats=3, random_state=1)\n",
    "grid_search = GridSearchCV(estimator=model, param_grid=grid, n_jobs=-1, cv=cv, scoring='accuracy',error_score=0)\n",
    "grid_search.fit(X_ohe_train,y_train)\n",
    "print(grid_search.best_params_)\n",
    "print(grid_search.best_score_)"
   ]
  },
  {
   "cell_type": "code",
   "execution_count": 27,
   "metadata": {
    "execution": {
     "iopub.execute_input": "2021-02-23T16:05:55.944944Z",
     "iopub.status.busy": "2021-02-23T16:05:55.938883Z",
     "iopub.status.idle": "2021-02-23T16:05:55.956332Z",
     "shell.execute_reply": "2021-02-23T16:05:55.955746Z"
    },
    "papermill": {
     "duration": 0.058568,
     "end_time": "2021-02-23T16:05:55.956456",
     "exception": false,
     "start_time": "2021-02-23T16:05:55.897888",
     "status": "completed"
    },
    "tags": []
   },
   "outputs": [],
   "source": [
    "from sklearn.neighbors import KNeighborsClassifier\n",
    "from sklearn.metrics import confusion_matrix,classification_report\n",
    "knn = KNeighborsClassifier(n_neighbors=1)\n",
    "knn.fit(X_ohe_train,y_train)\n",
    "predict = knn.predict(X_ohe_valid)"
   ]
  },
  {
   "cell_type": "code",
   "execution_count": 28,
   "metadata": {
    "execution": {
     "iopub.execute_input": "2021-02-23T16:05:56.030494Z",
     "iopub.status.busy": "2021-02-23T16:05:56.028589Z",
     "iopub.status.idle": "2021-02-23T16:05:56.039884Z",
     "shell.execute_reply": "2021-02-23T16:05:56.040767Z"
    },
    "papermill": {
     "duration": 0.051059,
     "end_time": "2021-02-23T16:05:56.040981",
     "exception": false,
     "start_time": "2021-02-23T16:05:55.989922",
     "status": "completed"
    },
    "tags": []
   },
   "outputs": [
    {
     "name": "stdout",
     "output_type": "stream",
     "text": [
      "[[81 36]\n",
      " [25 37]]\n",
      "              precision    recall  f1-score   support\n",
      "\n",
      "           0       0.76      0.69      0.73       117\n",
      "           1       0.51      0.60      0.55        62\n",
      "\n",
      "    accuracy                           0.66       179\n",
      "   macro avg       0.64      0.64      0.64       179\n",
      "weighted avg       0.68      0.66      0.66       179\n",
      "\n"
     ]
    }
   ],
   "source": [
    "print(confusion_matrix(predict,y_valid))\n",
    "print(classification_report(predict,y_valid))"
   ]
  },
  {
   "cell_type": "code",
   "execution_count": 29,
   "metadata": {
    "execution": {
     "iopub.execute_input": "2021-02-23T16:05:56.112048Z",
     "iopub.status.busy": "2021-02-23T16:05:56.111398Z",
     "iopub.status.idle": "2021-02-23T16:05:59.374541Z",
     "shell.execute_reply": "2021-02-23T16:05:59.373983Z"
    },
    "papermill": {
     "duration": 3.299477,
     "end_time": "2021-02-23T16:05:59.374685",
     "exception": false,
     "start_time": "2021-02-23T16:05:56.075208",
     "status": "completed"
    },
    "tags": []
   },
   "outputs": [],
   "source": [
    "error_rate = []\n",
    "for i in range(1,200):\n",
    "    knn = KNeighborsClassifier(n_neighbors=i)\n",
    "    knn.fit(X_ohe_train,y_train)\n",
    "    predict = knn.predict(X_ohe_valid)\n",
    "    error_rate.append(np.mean(predict != y_valid))"
   ]
  },
  {
   "cell_type": "code",
   "execution_count": 30,
   "metadata": {
    "execution": {
     "iopub.execute_input": "2021-02-23T16:05:59.445919Z",
     "iopub.status.busy": "2021-02-23T16:05:59.445206Z",
     "iopub.status.idle": "2021-02-23T16:05:59.449990Z",
     "shell.execute_reply": "2021-02-23T16:05:59.450741Z"
    },
    "papermill": {
     "duration": 0.042475,
     "end_time": "2021-02-23T16:05:59.450929",
     "exception": false,
     "start_time": "2021-02-23T16:05:59.408454",
     "status": "completed"
    },
    "tags": []
   },
   "outputs": [
    {
     "name": "stdout",
     "output_type": "stream",
     "text": [
      "[0.3407821229050279, 0.329608938547486, 0.25139664804469275, 0.31843575418994413, 0.2569832402234637, 0.31843575418994413, 0.2849162011173184, 0.30726256983240224, 0.30726256983240224, 0.329608938547486, 0.30726256983240224, 0.30726256983240224, 0.30726256983240224, 0.3128491620111732, 0.3128491620111732, 0.30726256983240224, 0.30726256983240224, 0.3128491620111732, 0.3016759776536313, 0.3128491620111732, 0.31843575418994413, 0.3016759776536313, 0.30726256983240224, 0.31843575418994413, 0.3407821229050279, 0.329608938547486, 0.33519553072625696, 0.30726256983240224, 0.3407821229050279, 0.3240223463687151, 0.31843575418994413, 0.3407821229050279, 0.3407821229050279, 0.3407821229050279, 0.3407821229050279, 0.36312849162011174, 0.3463687150837989, 0.3463687150837989, 0.35195530726256985, 0.36312849162011174, 0.3575418994413408, 0.3743016759776536, 0.3687150837988827, 0.36312849162011174, 0.3575418994413408, 0.3854748603351955, 0.3687150837988827, 0.37988826815642457, 0.37988826815642457, 0.3743016759776536, 0.3743016759776536, 0.3743016759776536, 0.36312849162011174, 0.37988826815642457, 0.3687150837988827, 0.37988826815642457, 0.39664804469273746, 0.39106145251396646, 0.39106145251396646, 0.39106145251396646, 0.4022346368715084, 0.3854748603351955, 0.39106145251396646, 0.37988826815642457, 0.39106145251396646, 0.3854748603351955, 0.37988826815642457, 0.3854748603351955, 0.3854748603351955, 0.39106145251396646, 0.3854748603351955, 0.39106145251396646, 0.3854748603351955, 0.39106145251396646, 0.37988826815642457, 0.39664804469273746, 0.3743016759776536, 0.39664804469273746, 0.39664804469273746, 0.39664804469273746, 0.37988826815642457, 0.3743016759776536, 0.36312849162011174, 0.36312849162011174, 0.3575418994413408, 0.3575418994413408, 0.35195530726256985, 0.3687150837988827, 0.3687150837988827, 0.3687150837988827, 0.3687150837988827, 0.3743016759776536, 0.3575418994413408, 0.3743016759776536, 0.3687150837988827, 0.3743016759776536, 0.3575418994413408, 0.3743016759776536, 0.35195530726256985, 0.37988826815642457, 0.3575418994413408, 0.3687150837988827, 0.36312849162011174, 0.3743016759776536, 0.3687150837988827, 0.3743016759776536, 0.3687150837988827, 0.3743016759776536, 0.36312849162011174, 0.3575418994413408, 0.3575418994413408, 0.36312849162011174, 0.3575418994413408, 0.3575418994413408, 0.35195530726256985, 0.3575418994413408, 0.35195530726256985, 0.35195530726256985, 0.3463687150837989, 0.3463687150837989, 0.35195530726256985, 0.35195530726256985, 0.35195530726256985, 0.35195530726256985, 0.3575418994413408, 0.35195530726256985, 0.3463687150837989, 0.3575418994413408, 0.35195530726256985, 0.3687150837988827, 0.35195530726256985, 0.35195530726256985, 0.35195530726256985, 0.36312849162011174, 0.36312849162011174, 0.36312849162011174, 0.36312849162011174, 0.36312849162011174, 0.36312849162011174, 0.36312849162011174, 0.36312849162011174, 0.3687150837988827, 0.3687150837988827, 0.3687150837988827, 0.3687150837988827, 0.3687150837988827, 0.36312849162011174, 0.36312849162011174, 0.3575418994413408, 0.36312849162011174, 0.3687150837988827, 0.36312849162011174, 0.3687150837988827, 0.3687150837988827, 0.36312849162011174, 0.3687150837988827, 0.3687150837988827, 0.3687150837988827, 0.3743016759776536, 0.37988826815642457, 0.37988826815642457, 0.37988826815642457, 0.37988826815642457, 0.3854748603351955, 0.37988826815642457, 0.37988826815642457, 0.3743016759776536, 0.3743016759776536, 0.37988826815642457, 0.3854748603351955, 0.3743016759776536, 0.37988826815642457, 0.3743016759776536, 0.39106145251396646, 0.3743016759776536, 0.3687150837988827, 0.3575418994413408, 0.3575418994413408, 0.3575418994413408, 0.3575418994413408, 0.3575418994413408, 0.36312849162011174, 0.36312849162011174, 0.36312849162011174, 0.36312849162011174, 0.3687150837988827, 0.3743016759776536, 0.3687150837988827, 0.3743016759776536, 0.37988826815642457, 0.37988826815642457, 0.3743016759776536, 0.37988826815642457, 0.3743016759776536, 0.3743016759776536, 0.3743016759776536, 0.3743016759776536, 0.3743016759776536, 0.3687150837988827]\n"
     ]
    }
   ],
   "source": [
    "print(error_rate)"
   ]
  },
  {
   "cell_type": "code",
   "execution_count": 31,
   "metadata": {
    "execution": {
     "iopub.execute_input": "2021-02-23T16:05:59.537216Z",
     "iopub.status.busy": "2021-02-23T16:05:59.536135Z",
     "iopub.status.idle": "2021-02-23T16:05:59.548274Z",
     "shell.execute_reply": "2021-02-23T16:05:59.548822Z"
    },
    "papermill": {
     "duration": 0.062676,
     "end_time": "2021-02-23T16:05:59.548982",
     "exception": false,
     "start_time": "2021-02-23T16:05:59.486306",
     "status": "completed"
    },
    "tags": []
   },
   "outputs": [
    {
     "ename": "NameError",
     "evalue": "name 'plt' is not defined",
     "output_type": "error",
     "traceback": [
      "\u001b[0;31m---------------------------------------------------------------------------\u001b[0m",
      "\u001b[0;31mNameError\u001b[0m                                 Traceback (most recent call last)",
      "\u001b[0;32m<ipython-input-31-a9659f2a7046>\u001b[0m in \u001b[0;36m<module>\u001b[0;34m\u001b[0m\n\u001b[0;32m----> 1\u001b[0;31m \u001b[0mplt\u001b[0m\u001b[0;34m.\u001b[0m\u001b[0mfigure\u001b[0m\u001b[0;34m(\u001b[0m\u001b[0mfigsize\u001b[0m\u001b[0;34m=\u001b[0m\u001b[0;34m(\u001b[0m\u001b[0;36m15\u001b[0m\u001b[0;34m,\u001b[0m\u001b[0;36m6\u001b[0m\u001b[0;34m)\u001b[0m\u001b[0;34m)\u001b[0m\u001b[0;34m\u001b[0m\u001b[0;34m\u001b[0m\u001b[0m\n\u001b[0m\u001b[1;32m      2\u001b[0m \u001b[0mplt\u001b[0m\u001b[0;34m.\u001b[0m\u001b[0mplot\u001b[0m\u001b[0;34m(\u001b[0m\u001b[0mrange\u001b[0m\u001b[0;34m(\u001b[0m\u001b[0;36m1\u001b[0m\u001b[0;34m,\u001b[0m\u001b[0;36m200\u001b[0m\u001b[0;34m)\u001b[0m\u001b[0;34m,\u001b[0m\u001b[0merror_rate\u001b[0m\u001b[0;34m,\u001b[0m\u001b[0mcolor\u001b[0m\u001b[0;34m=\u001b[0m\u001b[0;34m'blue'\u001b[0m\u001b[0;34m,\u001b[0m\u001b[0mlinestyle\u001b[0m\u001b[0;34m=\u001b[0m\u001b[0;34m\"dashed\"\u001b[0m\u001b[0;34m,\u001b[0m\u001b[0mmarker\u001b[0m\u001b[0;34m=\u001b[0m\u001b[0;34m\"o\"\u001b[0m\u001b[0;34m,\u001b[0m\u001b[0mmarkerfacecolor\u001b[0m\u001b[0;34m=\u001b[0m\u001b[0;34m\"red\"\u001b[0m\u001b[0;34m,\u001b[0m\u001b[0mmarkersize\u001b[0m\u001b[0;34m=\u001b[0m\u001b[0;36m10\u001b[0m\u001b[0;34m)\u001b[0m\u001b[0;34m\u001b[0m\u001b[0;34m\u001b[0m\u001b[0m\n\u001b[1;32m      3\u001b[0m \u001b[0mplt\u001b[0m\u001b[0;34m.\u001b[0m\u001b[0mplot\u001b[0m\u001b[0;34m(\u001b[0m\u001b[0;34m)\u001b[0m\u001b[0;34m\u001b[0m\u001b[0;34m\u001b[0m\u001b[0m\n",
      "\u001b[0;31mNameError\u001b[0m: name 'plt' is not defined"
     ]
    }
   ],
   "source": [
    "plt.figure(figsize=(15,6))\n",
    "plt.plot(range(1,200),error_rate,color='blue',linestyle=\"dashed\",marker=\"o\",markerfacecolor=\"red\",markersize=10)\n",
    "plt.plot()"
   ]
  },
  {
   "cell_type": "code",
   "execution_count": 32,
   "metadata": {
    "execution": {
     "iopub.execute_input": "2021-02-23T16:05:59.623213Z",
     "iopub.status.busy": "2021-02-23T16:05:59.622227Z",
     "iopub.status.idle": "2021-02-23T16:06:14.905742Z",
     "shell.execute_reply": "2021-02-23T16:06:14.905050Z"
    },
    "papermill": {
     "duration": 15.321148,
     "end_time": "2021-02-23T16:06:14.905859",
     "exception": false,
     "start_time": "2021-02-23T16:05:59.584711",
     "status": "completed"
    },
    "tags": []
   },
   "outputs": [
    {
     "name": "stdout",
     "output_type": "stream",
     "text": [
      "{'n_neighbors': 17}\n",
      "KNeighborsClassifier(n_neighbors=17)\n"
     ]
    }
   ],
   "source": [
    "from sklearn.model_selection import GridSearchCV\n",
    "knn = KNeighborsClassifier()\n",
    "n = [range(1,200)]\n",
    "param = dict(n_neighbors=range(1,200))\n",
    "grid = GridSearchCV(knn,param,cv=5)\n",
    "grid.fit(X_ohe_train,y_train)\n",
    "print(grid.best_params_)\n",
    "print(grid.best_estimator_)"
   ]
  }
 ],
 "metadata": {
  "kernelspec": {
   "display_name": "Python 3",
   "language": "python",
   "name": "python3"
  },
  "language_info": {
   "codemirror_mode": {
    "name": "ipython",
    "version": 3
   },
   "file_extension": ".py",
   "mimetype": "text/x-python",
   "name": "python",
   "nbconvert_exporter": "python",
   "pygments_lexer": "ipython3",
   "version": "3.7.6"
  },
  "papermill": {
   "duration": 745.465045,
   "end_time": "2021-02-23T16:06:15.053529",
   "environment_variables": {},
   "exception": null,
   "input_path": "__notebook__.ipynb",
   "output_path": "__notebook__.ipynb",
   "parameters": {},
   "start_time": "2021-02-23T15:53:49.588484",
   "version": "2.1.0"
  }
 },
 "nbformat": 4,
 "nbformat_minor": 4
}
